{
 "cells": [
  {
   "attachments": {},
   "cell_type": "markdown",
   "metadata": {},
   "source": [
    "### Two missing numbers"
   ]
  },
  {
   "attachments": {},
   "cell_type": "markdown",
   "metadata": {},
   "source": [
    "- 1 부터 n 까지의 수를 모두 더하다가 실수로 두 수를 빼고 더했다. 이 합을 S라고 하자.\n",
    "- 다시 1 부터 n 까지의 수의 제곱을 더하다가 다시 같은 두 수의 제곱을 빼고 더했다. 이 합을 T 라고 하자.\n",
    "\n",
    "- 입력: 첫 줄에는 값 n 이 주어지고, 다음 줄에는 두 합 S와 T가 한 줄에 차례로 주어진다 (n은 3 이상 10만 이하의 자연수)\n",
    "- 출력: 빠진 두 수를 작은 수가 먼저 오도록 한 줄에 출력한다\n",
    "\n",
    "- 목표: 연산 횟수를 최대한 줄여야 한다"
   ]
  },
  {
   "cell_type": "code",
   "execution_count": 1,
   "metadata": {},
   "outputs": [
    {
     "name": "stdout",
     "output_type": "stream",
     "text": [
      "2 4\n"
     ]
    }
   ],
   "source": [
    "import math\n",
    "\n",
    "def guess_two_missing_numbers(n, S, T):\n",
    "\t# x = a + b\n",
    "\tx = int(n*(n + 1) / 2 - S)\n",
    "\t# y = b - a\n",
    "\ty = int(math.sqrt(x**2 - 2*(n*(n + 1) / 2 - S)**2 + n*(n + 1)*(2*n + 1) / 3 - 2*T))\n",
    "\t\n",
    "\tb = (x + y) // 2\n",
    "\ta = (x - y) // 2\n",
    "\t\n",
    "\treturn a, b  # a < b are two missing numbers\n",
    "\n",
    "n = int(input())\n",
    "S, T = [int(x) for x in input().split()]\n",
    "a, b = guess_two_missing_numbers(n, S, T)\n",
    "print(a, b)"
   ]
  },
  {
   "cell_type": "code",
   "execution_count": 2,
   "metadata": {},
   "outputs": [],
   "source": [
    "# 5\n",
    "# 9 35\n",
    "# -> 2 4\n",
    "\n",
    "# 10\n",
    "# 44 312\n",
    "# -> 3 8"
   ]
  }
 ],
 "metadata": {
  "kernelspec": {
   "display_name": "ba2022",
   "language": "python",
   "name": "python3"
  },
  "language_info": {
   "codemirror_mode": {
    "name": "ipython",
    "version": 3
   },
   "file_extension": ".py",
   "mimetype": "text/x-python",
   "name": "python",
   "nbconvert_exporter": "python",
   "pygments_lexer": "ipython3",
   "version": "3.8.13"
  },
  "orig_nbformat": 4,
  "vscode": {
   "interpreter": {
    "hash": "868f9adf544d7f031e3855811426cd169a9ab3a1f46cb5401fd36ee4fe49e7a2"
   }
  }
 },
 "nbformat": 4,
 "nbformat_minor": 2
}
