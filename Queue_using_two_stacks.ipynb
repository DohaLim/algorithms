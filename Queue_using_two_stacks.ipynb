{
  "cells": [
    {
      "cell_type": "code",
      "execution_count": null,
      "metadata": {},
      "outputs": [],
      "source": [
        "class Stack:\n",
        "\tdef __init__(self):\n",
        "\t\tself.items = []\n",
        "\t\n",
        "\tdef items(self):\n",
        "\t\treturn self.items\n",
        "\t\n",
        "\tdef push(self, val):\n",
        "\t\tself.items.append(val)\n",
        "\n",
        "\tdef pop(self):\n",
        "\t\ttry:\n",
        "\t\t\treturn self.items.pop()\n",
        "\t\texcept IndexError:\n",
        "\t\t\treturn \"EMPTY\"\n",
        "\n",
        "\tdef top(self):\n",
        "\t\ttry:\n",
        "\t\t\treturn self.items[-1]\n",
        "\t\texcept IndexError:\n",
        "\t\t\treturn \"EMPTY\"\n",
        "\n",
        "\tdef __len__(self):\t# stack의 item 수 반환\n",
        "\t\treturn len(self.items)\n",
        "\n",
        "S_enq = Stack()\n",
        "S_deq = Stack()\n",
        "\n",
        "# input\n",
        "while True:\n",
        "\tcmd = input().split()\n",
        "\t\n",
        "\tif cmd[0] == 'exit':\n",
        "\t\tbreak\n",
        "\t\t\n",
        "\telif cmd[0] == 'enq':\n",
        "\t\tS_enq.push(int(cmd[1]))\n",
        "\t\t\n",
        "\telif cmd[0] == 'deq':\n",
        "\t\tif len(S_deq) != 0:\n",
        "\t\t\tprint(S_deq.pop())\n",
        "\t\t\t\n",
        "\t\telse:\n",
        "\t\t\twhile len(S_enq) != 0:\n",
        "\t\t\t\tx = S_enq.pop()\n",
        "\t\t\t\tS_deq.push(x)\n",
        "\t\t\tprint(S_deq.pop())\n",
        "\n",
        "\t\n",
        "\t# print('S_enq:',S_enq.items)\n",
        "\t# print('S_deq:',S_deq.items)"
      ]
    }
  ],
  "metadata": {
    "anaconda-cloud": {},
    "kernelspec": {
      "display_name": "Python 3",
      "language": "python",
      "name": "python3"
    },
    "language_info": {
      "codemirror_mode": {
        "name": "ipython",
        "version": 3
      },
      "file_extension": ".py",
      "mimetype": "text/x-python",
      "name": "python",
      "nbconvert_exporter": "python",
      "pygments_lexer": "ipython3",
      "version": "3.6.1"
    }
  },
  "nbformat": 4,
  "nbformat_minor": 4
}
