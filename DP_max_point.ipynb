{
 "cells": [
  {
   "attachments": {},
   "cell_type": "markdown",
   "metadata": {},
   "source": [
    "Dynamic Programming"
   ]
  },
  {
   "attachments": {},
   "cell_type": "markdown",
   "metadata": {},
   "source": [
    "n개의 정수 값이 저장된 배열 A을 가지고 게임을 한다. 한 번에 하나의 값을 선택해서 A에서 지운다. A[i]를 선택했다면, A[i]-1 값과 A[i]+1과 같은 값도 찾아 있다면 모두 A에서 지운다. 그러면 점수 A[i]를 얻는다. 이 과정을 A의 모든 값이 삭제될 때까지 반복한다. 얻을 수 있는 최대 점수는 몇 점인가?"
   ]
  },
  {
   "attachments": {},
   "cell_type": "markdown",
   "metadata": {},
   "source": [
    "입력\n",
    "- 첫 줄에 n (1 <= n <= 100,000)\n",
    "- 두 번째 줄에 n개의 A[i] 값 (1 <= A[i] <= 100,000)"
   ]
  },
  {
   "attachments": {},
   "cell_type": "markdown",
   "metadata": {},
   "source": [
    "주의\n",
    "- A[i]와 같은 값이 여러 개 있을 수 있다. 만약 A[i]을 선택해서 지우더라도 같은 값들이 함께 삭제되지는 않는다.\n",
    "- 다만, A[i]을 지울 때 A[i]-1과 A[i]+1 값은 한번에 모두 삭제된다."
   ]
  },
  {
   "attachments": {},
   "cell_type": "markdown",
   "metadata": {},
   "source": [
    "1. max 값만큼 DP 수행"
   ]
  },
  {
   "cell_type": "code",
   "execution_count": null,
   "metadata": {},
   "outputs": [],
   "source": [
    "#input\n",
    "n = int(input())\n",
    "A = list(map(int, input().split()))\n",
    "\n",
    "def find_max_point(A):\n",
    "\tm = max(A)\n",
    "\tA_cnt = [A.count(i) for i in range(m+1)]\n",
    "\t# print(A, A_cnt)\n",
    "\t\n",
    "\t# initialize\n",
    "\tS = [0, A_cnt[1]]\n",
    "\t\n",
    "\t# DP\n",
    "\tfor i in range(2, m+1):\n",
    "\t\tS.append(max(S[i-2] + i*A_cnt[i], S[i-1]))\n",
    "\t\t# print(i, S)\n",
    "\t\n",
    "\treturn S[-1]\n",
    "\n",
    "print(find_max_point(A))"
   ]
  },
  {
   "attachments": {},
   "cell_type": "markdown",
   "metadata": {},
   "source": [
    "2. n만큼 DP 수행(Good)"
   ]
  },
  {
   "cell_type": "code",
   "execution_count": 2,
   "metadata": {},
   "outputs": [
    {
     "ename": "ValueError",
     "evalue": "invalid literal for int() with base 10: 'Escape'",
     "output_type": "error",
     "traceback": [
      "\u001b[1;31m---------------------------------------------------------------------------\u001b[0m",
      "\u001b[1;31mValueError\u001b[0m                                Traceback (most recent call last)",
      "\u001b[1;32m~\\AppData\\Local\\Temp/ipykernel_14468/2599466648.py\u001b[0m in \u001b[0;36m<module>\u001b[1;34m\u001b[0m\n\u001b[0;32m      3\u001b[0m \u001b[1;32mfrom\u001b[0m \u001b[0mcollections\u001b[0m \u001b[1;32mimport\u001b[0m \u001b[0mCounter\u001b[0m\u001b[1;33m\u001b[0m\u001b[1;33m\u001b[0m\u001b[0m\n\u001b[0;32m      4\u001b[0m \u001b[1;33m\u001b[0m\u001b[0m\n\u001b[1;32m----> 5\u001b[1;33m \u001b[0mn\u001b[0m \u001b[1;33m=\u001b[0m \u001b[0mint\u001b[0m\u001b[1;33m(\u001b[0m\u001b[0minput\u001b[0m\u001b[1;33m(\u001b[0m\u001b[1;33m)\u001b[0m\u001b[1;33m)\u001b[0m\u001b[1;33m\u001b[0m\u001b[1;33m\u001b[0m\u001b[0m\n\u001b[0m\u001b[0;32m      6\u001b[0m \u001b[0mA\u001b[0m \u001b[1;33m=\u001b[0m \u001b[0mlist\u001b[0m\u001b[1;33m(\u001b[0m\u001b[0mmap\u001b[0m\u001b[1;33m(\u001b[0m\u001b[0mint\u001b[0m\u001b[1;33m,\u001b[0m \u001b[0minput\u001b[0m\u001b[1;33m(\u001b[0m\u001b[1;33m)\u001b[0m\u001b[1;33m.\u001b[0m\u001b[0msplit\u001b[0m\u001b[1;33m(\u001b[0m\u001b[1;33m)\u001b[0m\u001b[1;33m)\u001b[0m\u001b[1;33m)\u001b[0m\u001b[1;33m\u001b[0m\u001b[1;33m\u001b[0m\u001b[0m\n\u001b[0;32m      7\u001b[0m \u001b[1;33m\u001b[0m\u001b[0m\n",
      "\u001b[1;31mValueError\u001b[0m: invalid literal for int() with base 10: 'Escape'"
     ]
    }
   ],
   "source": [
    "# 리스트에 있는 값을 오름차순으로 조회하면서 해당 값까지 가능한 가장 큰 점수를 S라는 리스트에 저장한다. 이때, Cnt_dic에는 값들의 개수가 저장되어 있어서 점수를 곱해서 구할 수가 있다. 인접한 값이 있으면 인접한 값과 해당 값 중 점수가 더 높은 경우를 선택한다. 마지막 값까지 점수를 계산하면 리스트에 있는 마지막 값이 구할 수 있는 최고 점수가 된다. 오름차순으로 정렬하는 O(nlogn)와 DP 점화식 O(n)을 이용했기 때문에 시간 복잡도는 O(nlogn)이다.\n",
    "\n",
    "from collections import Counter\n",
    "\n",
    "n = int(input())\n",
    "A = list(map(int, input().split()))\n",
    "\n",
    "# A = [1, 2, 1, 3, 2, 2, 2, 2, 3, 4, 4, 5]\n",
    "\n",
    "def find_max_point(A):\n",
    "\tm = max(A)\n",
    "\tCnt_dic = Counter(A)\n",
    "\tA_cnt = sorted(Cnt_dic.items())\n",
    "\t\n",
    "\t# initialize\n",
    "\tS = [0, A_cnt[0][0]*A_cnt[0][1]]\n",
    "\t\n",
    "\t# DP\n",
    "\tidx = 1  # start from second element\n",
    "\twhile idx < len(A_cnt):\n",
    "\t\tif (A_cnt[idx-1][0]) == (A_cnt[idx][0] -1): # 인접한 숫자인 경우\n",
    "\t\t\tS.append(max(S[idx-1]+A_cnt[idx][0]*A_cnt[idx][1],S[idx]))\n",
    "\t\telse:\n",
    "\t\t\tS.append(S[idx]+A_cnt[idx][0]*A_cnt[idx][1])\n",
    "\t\t\n",
    "\t\tidx += 1\n",
    "\t\n",
    "\treturn S[-1]\n",
    "\n",
    "print(find_max_point(A))"
   ]
  }
 ],
 "metadata": {
  "kernelspec": {
   "display_name": "base",
   "language": "python",
   "name": "python3"
  },
  "language_info": {
   "codemirror_mode": {
    "name": "ipython",
    "version": 3
   },
   "file_extension": ".py",
   "mimetype": "text/x-python",
   "name": "python",
   "nbconvert_exporter": "python",
   "pygments_lexer": "ipython3",
   "version": "3.9.7"
  },
  "orig_nbformat": 4,
  "vscode": {
   "interpreter": {
    "hash": "105790836edd6ce9dba8ddac723b0664ab4da7017b48f129addc738385b159de"
   }
  }
 },
 "nbformat": 4,
 "nbformat_minor": 2
}
