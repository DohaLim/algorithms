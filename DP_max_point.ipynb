{
 "cells": [
  {
   "attachments": {},
   "cell_type": "markdown",
   "metadata": {},
   "source": [
    "Dynamic Programming"
   ]
  },
  {
   "cell_type": "code",
   "execution_count": null,
   "metadata": {},
   "outputs": [],
   "source": [
    "#input\n",
    "n = int(input())\n",
    "A = list(map(int, input().split()))\n",
    "\n",
    "def find_max_point(A):\n",
    "\tm = max(A)\n",
    "\tA_cnt = [A.count(i) for i in range(m+1)]\n",
    "\t# print(A, A_cnt)\n",
    "\t\n",
    "\t# initialize\n",
    "\tS = [0, A_cnt[1]]\n",
    "\t\n",
    "\t# DP\n",
    "\tfor i in range(2, m+1):\n",
    "\t\tS.append(max(S[i-2] + i*A_cnt[i], S[i-1]))\n",
    "\t\t# print(i, S)\n",
    "\t\n",
    "\treturn S[-1]\n",
    "\n",
    "print(find_max_point(A))"
   ]
  }
 ],
 "metadata": {
  "language_info": {
   "name": "python"
  },
  "orig_nbformat": 4
 },
 "nbformat": 4,
 "nbformat_minor": 2
}
