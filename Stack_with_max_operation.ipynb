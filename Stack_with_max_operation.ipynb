{
  "cells": [
    {
      "attachments": {},
      "cell_type": "markdown",
      "metadata": {},
      "source": [
        "### Stack with max operation"
      ]
    },
    {
      "attachments": {},
      "cell_type": "markdown",
      "metadata": {},
      "source": [
        "- 목표: Stack의 삽입과 삭제 연산 이외에 max 연산(현재 stack에 있는 값 중 최대 값을 찾아 리턴)을 지원\n",
        "  - push, pop은 모두 O(1) 시간에 동작\n",
        "  - max 연산은 평균적으로 O(1) 시간에 동작\n",
        "- 구현: 스택을 최대 2개를 사용해 구현이 가능하다\n",
        "- 입력: 연산 명령을 문자열로 연속적으로 입력 받아 각 연산에 맞게 처리한다. 연산의 종류는 다음과 같다.\n",
        "  - push x: 정수 값 x를 스택에 push\n",
        "  - pop: 스택의 값을 pop한 후 그 값을 프린트, 만약 스택이 비었다면 EMPTY 출력\n",
        "  - max: 스택의 저장된 값 중 최대 값을 찾아 프린트, 만약 스택이 비었다면 EMPTY 출력\n",
        "  - exit: 명령 처리를 종료"
      ]
    },
    {
      "cell_type": "code",
      "execution_count": null,
      "metadata": {},
      "outputs": [],
      "source": [
        "class Stack:\n",
        "\tdef __init__(self):\n",
        "\t\tself.items = []\n",
        "\t\n",
        "\tdef items(self):\n",
        "\t\treturn self.items\n",
        "\t\n",
        "\tdef push(self, val):\n",
        "\t\tself.items.append(val)\n",
        "\n",
        "\tdef pop(self):\n",
        "\t\ttry:\n",
        "\t\t\treturn self.items.pop()\n",
        "\t\texcept IndexError:\n",
        "\t\t\treturn \"EMPTY\"\n",
        "\n",
        "\tdef top(self):\n",
        "\t\ttry:\n",
        "\t\t\treturn self.items[-1]\n",
        "\t\texcept IndexError:\n",
        "\t\t\treturn \"EMPTY\"\n",
        "\n",
        "\tdef __len__(self):\t# stack의 item 수 반환\n",
        "\t\treturn len(self.items)\n",
        "\n",
        "S = Stack()\n",
        "S_max = Stack()\n",
        "\n",
        "# input\n",
        "while True:\n",
        "\tcmd = input().split()\n",
        "\t\n",
        "\tif cmd[0] == 'exit':\n",
        "\t\tbreak\n",
        "\t\t\n",
        "\telif cmd[0] == 'push':\n",
        "\t\tif len(S_max) == 0:\n",
        "\t\t\tS_max.push(int(cmd[1]))\n",
        "\t\telif len(S) != 0 and int(cmd[1]) >= S_max.top():\n",
        "\t\t\tS_max.push(int(cmd[1]))\n",
        "\t\tS.push(int(cmd[1]))\n",
        "\t\t\n",
        "\telif cmd[0] == 'pop':\n",
        "\t\tif len(S_max) != 0 and len(S) != 0 and S_max.top() == S.top():\n",
        "\t\t\ta = S_max.pop()\n",
        "\t\tprint(S.pop())\n",
        "\t\t\n",
        "\telif cmd[0] == 'max':\n",
        "\t\tprint(S_max.top())\n",
        "\t\n",
        "\t# print('S:',S.items)\n",
        "\t# print('S_max:',S_max.items)"
      ]
    },
    {
      "cell_type": "code",
      "execution_count": null,
      "metadata": {},
      "outputs": [],
      "source": [
        "# 입력\n",
        "# push 3\n",
        "# push 2\n",
        "# max\n",
        "# push 4\n",
        "# push 5\n",
        "# pop\n",
        "# max\n",
        "# pop\n",
        "# pop\n",
        "# max\n",
        "# exit\n",
        "\n",
        "# 출력\n",
        "# 3\n",
        "# 5\n",
        "# 4\n",
        "# 4\n",
        "# 2\n",
        "# 3"
      ]
    },
    {
      "cell_type": "code",
      "execution_count": null,
      "metadata": {},
      "outputs": [],
      "source": [
        "# 입력\n",
        "# pop\n",
        "# push 20\n",
        "# max\n",
        "# push 12\n",
        "# push 16\n",
        "# max\n",
        "# pop\n",
        "# max\n",
        "# exit\n",
        "\n",
        "# 출력\n",
        "# EMPTY\n",
        "# 20\n",
        "# 20\n",
        "# 16\n",
        "# 20"
      ]
    }
  ],
  "metadata": {
    "anaconda-cloud": {},
    "kernelspec": {
      "display_name": "Python 3",
      "language": "python",
      "name": "python3"
    },
    "language_info": {
      "codemirror_mode": {
        "name": "ipython",
        "version": 3
      },
      "file_extension": ".py",
      "mimetype": "text/x-python",
      "name": "python",
      "nbconvert_exporter": "python",
      "pygments_lexer": "ipython3",
      "version": "3.6.1"
    }
  },
  "nbformat": 4,
  "nbformat_minor": 4
}
