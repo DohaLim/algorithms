{
 "cells": [
  {
   "attachments": {},
   "cell_type": "markdown",
   "metadata": {},
   "source": [
    "계란 낙하"
   ]
  },
  {
   "attachments": {},
   "cell_type": "markdown",
   "metadata": {},
   "source": [
    "- DP[E][F] = E개의 계란과 F층의 건물에서 계란이 꺠지지 않는 가장 높은 층을 알기 위해 필요한 (최악의 경우의) 최소 낙하 횟수 "
   ]
  },
  {
   "cell_type": "code",
   "execution_count": 5,
   "metadata": {},
   "outputs": [
    {
     "name": "stdout",
     "output_type": "stream",
     "text": [
      "True\n"
     ]
    }
   ],
   "source": [
    "# 계란의 개수만큼 F^2의 루프를 돌기 때문에 시간 복잡도는 O(E*F^2)이다.\n",
    "\n",
    "E, F = tuple(map(int, input().split()))\n",
    "\n",
    "def find_floor(e, f):\n",
    "\t# initial\n",
    "\tDP = [[0 for _ in range(f+1)] for _ in range(e+1)]\n",
    "\t\n",
    "\t# 1층에 대한 횟수는 모두 1\n",
    "\tfor i in range(1, e+1):\n",
    "\t\tDP[i][1] = 1\n",
    "\t\n",
    "\t# 계란이 하나일 때 횟수는 층수와 같다\n",
    "\tfor j in range(1, f+1):\n",
    "\t\tDP[1][j] = j\n",
    "\t\n",
    "\t# DP Table 채우기\n",
    "\tfor i in range(2, e+1):\n",
    "\t\tfor j in range(2, f+1):\n",
    "\t\t\tmin_cnt = f\n",
    "\t\t\tmin_flag = False\n",
    "\t\t\tfor k in range(1, j+1):\n",
    "\t\t\t\ttemp = 1 + max(DP[i-1][k-1], DP[i][j-k])\n",
    "\t\t\t\tif temp < min_cnt:\n",
    "\t\t\t\t\tmin_cnt = temp\n",
    "\t\t\t\t\tmin_flag = True\n",
    "\t\t\t\t\n",
    "\t\t\t\tif temp > min_cnt and min_flag:\n",
    "\t\t\t\t\t\tbreak\n",
    "\t\t\t\t\t\t\n",
    "\t\t\tDP[i][j] = min_cnt\n",
    "\n",
    "\t\n",
    "\treturn DP[e][f]\n",
    "\n",
    "print(find_floor(E, F))"
   ]
  },
  {
   "attachments": {},
   "cell_type": "markdown",
   "metadata": {},
   "source": [
    "- DP[E][F] = 낙하 시도 횟수 T 이내에서 계란 E개를 가지고 계란이 깨지지 않는 가장 높은 층을 찾을 수 있는 건물의 최대 층 수"
   ]
  },
  {
   "cell_type": "code",
   "execution_count": null,
   "metadata": {},
   "outputs": [],
   "source": [
    "# 계란의 개수만큼 F번의 루프를 돌기 때문에 시간 복잡도는 O(E*logF)이다.\n",
    "\n",
    "E, F = tuple(map(int, input().split()))\n",
    "\n",
    "def find_Trial(e, f):\n",
    "\t# initial\n",
    "\tDP = [[0 for _ in range(e+1)]] # DP[0][E] == 0\n",
    "\t\n",
    "\tfor _ in range(f): # DP[T][0] == 0\n",
    "\t\tDP.append([0])\n",
    "\t\n",
    "\t# DP Table 채우기\n",
    "\tt = 0\n",
    "\twhile DP[t][e] < f:\n",
    "\t\tt += 1\n",
    "\t\tif t == 1: # DP[1][E] == 1 \n",
    "\t\t\tfor i in range(1, e+1):\n",
    "\t\t\t\tDP[t].append(1)\n",
    "\t\t\t\t\n",
    "\t\telse:\n",
    "\t\t\tfor i in range(1, e+1):\n",
    "\t\t\t\tDP[t].append(1 + DP[t-1][i-1] + DP[t-1][i])\n",
    "\t\n",
    "\tprint(DP[4][2])\n",
    "\t\n",
    "\treturn t\n",
    "\n",
    "print(find_Trial(E, F))"
   ]
  },
  {
   "attachments": {},
   "cell_type": "markdown",
   "metadata": {},
   "source": [
    "- 1차원 DP 테이블만 사용"
   ]
  },
  {
   "cell_type": "code",
   "execution_count": null,
   "metadata": {},
   "outputs": [],
   "source": [
    "# 계란의 개수가 늘어날 때마다 기존의 행에 더하면서 계산을 할 수가 있다. 이때, E만큼 for문을 돌고 while문은 log F만큼 돌기 때문에 시간 복잡도는 O(E*logF)이다.\n",
    "\n",
    "E, F = tuple(map(int, input().split()))\n",
    "\n",
    "def find_Trial(e, f):\n",
    "\t# initial\n",
    "\tDP = [0 for _ in range(e+1)]\n",
    "\t\n",
    "\t# DP Table 채우기\n",
    "\tt = 0\n",
    "\twhile DP[e] < f:\n",
    "\t\tt += 1\n",
    "\t\tfor i in range(e, 0, -1):\n",
    "\t\t\tDP[i] += 1 + DP[i-1]\n",
    "\t\n",
    "\t\n",
    "\treturn t\n",
    "\n",
    "print(find_Trial(E, F))"
   ]
  }
 ],
 "metadata": {
  "kernelspec": {
   "display_name": "base",
   "language": "python",
   "name": "python3"
  },
  "language_info": {
   "codemirror_mode": {
    "name": "ipython",
    "version": 3
   },
   "file_extension": ".py",
   "mimetype": "text/x-python",
   "name": "python",
   "nbconvert_exporter": "python",
   "pygments_lexer": "ipython3",
   "version": "3.9.7"
  },
  "orig_nbformat": 4,
  "vscode": {
   "interpreter": {
    "hash": "105790836edd6ce9dba8ddac723b0664ab4da7017b48f129addc738385b159de"
   }
  }
 },
 "nbformat": 4,
 "nbformat_minor": 2
}
